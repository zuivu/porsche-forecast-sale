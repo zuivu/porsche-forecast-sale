{
 "cells": [
  {
   "cell_type": "markdown",
   "metadata": {},
   "source": [
    "# Correlation with target variable\n",
    "\n",
    "We focus on each vehicle finding the correlation between 18 features and the target variable.\n",
    "\n",
    "Each country as seperate table. Each row is the vehicle (17 rows) and rows are correlation with the target variables"
   ]
  },
  {
   "cell_type": "code",
   "execution_count": 1,
   "metadata": {},
   "outputs": [],
   "source": [
    "import pandas as pd\n",
    "import seaborn as sns\n",
    "import matplotlib.pyplot as plt"
   ]
  },
  {
   "cell_type": "code",
   "execution_count": 2,
   "metadata": {},
   "outputs": [
    {
     "data": {
      "text/html": [
       "<div>\n",
       "<style scoped>\n",
       "    .dataframe tbody tr th:only-of-type {\n",
       "        vertical-align: middle;\n",
       "    }\n",
       "\n",
       "    .dataframe tbody tr th {\n",
       "        vertical-align: top;\n",
       "    }\n",
       "\n",
       "    .dataframe thead th {\n",
       "        text-align: right;\n",
       "    }\n",
       "</style>\n",
       "<table border=\"1\" class=\"dataframe\">\n",
       "  <thead>\n",
       "    <tr style=\"text-align: right;\">\n",
       "      <th></th>\n",
       "      <th>month</th>\n",
       "      <th>countryname</th>\n",
       "      <th>sales_actuals_monthly__vehiclegroup01__orderintake</th>\n",
       "      <th>sales_actuals_monthly__vehiclegroup01__retail</th>\n",
       "      <th>sales_actuals_monthly__vehiclegroup02__orderintake</th>\n",
       "      <th>sales_actuals_monthly__vehiclegroup02__retail</th>\n",
       "      <th>sales_actuals_monthly__vehiclegroup03__orderintake</th>\n",
       "      <th>sales_actuals_monthly__vehiclegroup03__retail</th>\n",
       "      <th>sales_actuals_monthly__vehiclegroup04__orderintake</th>\n",
       "      <th>sales_actuals_monthly__vehiclegroup04__retail</th>\n",
       "      <th>...</th>\n",
       "      <th>registrations__buildtype_suv</th>\n",
       "      <th>registrations__buildtype_transport</th>\n",
       "      <th>registrations__buildtype_van</th>\n",
       "      <th>registrations__buildtype_cabrio</th>\n",
       "      <th>registrations__buildtype_stufenheck</th>\n",
       "      <th>registrations__buildtype_kurzheck</th>\n",
       "      <th>registrations__buildtype_other</th>\n",
       "      <th>registrations__buildtype_pickup</th>\n",
       "      <th>registrations__buildtype_coupe</th>\n",
       "      <th>registrations__buildtype_kombi</th>\n",
       "    </tr>\n",
       "  </thead>\n",
       "  <tbody>\n",
       "    <tr>\n",
       "      <th>0</th>\n",
       "      <td>1</td>\n",
       "      <td>Country A</td>\n",
       "      <td>296.0</td>\n",
       "      <td>352.0</td>\n",
       "      <td>739.0</td>\n",
       "      <td>471.0</td>\n",
       "      <td>NaN</td>\n",
       "      <td>NaN</td>\n",
       "      <td>NaN</td>\n",
       "      <td>NaN</td>\n",
       "      <td>...</td>\n",
       "      <td>NaN</td>\n",
       "      <td>NaN</td>\n",
       "      <td>NaN</td>\n",
       "      <td>NaN</td>\n",
       "      <td>NaN</td>\n",
       "      <td>NaN</td>\n",
       "      <td>NaN</td>\n",
       "      <td>NaN</td>\n",
       "      <td>NaN</td>\n",
       "      <td>NaN</td>\n",
       "    </tr>\n",
       "    <tr>\n",
       "      <th>1</th>\n",
       "      <td>2</td>\n",
       "      <td>Country A</td>\n",
       "      <td>414.0</td>\n",
       "      <td>372.0</td>\n",
       "      <td>904.0</td>\n",
       "      <td>528.0</td>\n",
       "      <td>NaN</td>\n",
       "      <td>NaN</td>\n",
       "      <td>NaN</td>\n",
       "      <td>NaN</td>\n",
       "      <td>...</td>\n",
       "      <td>NaN</td>\n",
       "      <td>NaN</td>\n",
       "      <td>NaN</td>\n",
       "      <td>NaN</td>\n",
       "      <td>NaN</td>\n",
       "      <td>NaN</td>\n",
       "      <td>NaN</td>\n",
       "      <td>NaN</td>\n",
       "      <td>NaN</td>\n",
       "      <td>NaN</td>\n",
       "    </tr>\n",
       "    <tr>\n",
       "      <th>2</th>\n",
       "      <td>3</td>\n",
       "      <td>Country A</td>\n",
       "      <td>405.0</td>\n",
       "      <td>604.0</td>\n",
       "      <td>1000.0</td>\n",
       "      <td>953.0</td>\n",
       "      <td>NaN</td>\n",
       "      <td>NaN</td>\n",
       "      <td>NaN</td>\n",
       "      <td>NaN</td>\n",
       "      <td>...</td>\n",
       "      <td>NaN</td>\n",
       "      <td>NaN</td>\n",
       "      <td>NaN</td>\n",
       "      <td>NaN</td>\n",
       "      <td>NaN</td>\n",
       "      <td>NaN</td>\n",
       "      <td>NaN</td>\n",
       "      <td>NaN</td>\n",
       "      <td>NaN</td>\n",
       "      <td>NaN</td>\n",
       "    </tr>\n",
       "    <tr>\n",
       "      <th>3</th>\n",
       "      <td>4</td>\n",
       "      <td>Country A</td>\n",
       "      <td>359.0</td>\n",
       "      <td>483.0</td>\n",
       "      <td>828.0</td>\n",
       "      <td>972.0</td>\n",
       "      <td>NaN</td>\n",
       "      <td>NaN</td>\n",
       "      <td>NaN</td>\n",
       "      <td>NaN</td>\n",
       "      <td>...</td>\n",
       "      <td>NaN</td>\n",
       "      <td>NaN</td>\n",
       "      <td>NaN</td>\n",
       "      <td>NaN</td>\n",
       "      <td>NaN</td>\n",
       "      <td>NaN</td>\n",
       "      <td>NaN</td>\n",
       "      <td>NaN</td>\n",
       "      <td>NaN</td>\n",
       "      <td>NaN</td>\n",
       "    </tr>\n",
       "    <tr>\n",
       "      <th>4</th>\n",
       "      <td>5</td>\n",
       "      <td>Country A</td>\n",
       "      <td>403.0</td>\n",
       "      <td>474.0</td>\n",
       "      <td>594.0</td>\n",
       "      <td>900.0</td>\n",
       "      <td>NaN</td>\n",
       "      <td>NaN</td>\n",
       "      <td>NaN</td>\n",
       "      <td>NaN</td>\n",
       "      <td>...</td>\n",
       "      <td>NaN</td>\n",
       "      <td>NaN</td>\n",
       "      <td>NaN</td>\n",
       "      <td>NaN</td>\n",
       "      <td>NaN</td>\n",
       "      <td>NaN</td>\n",
       "      <td>NaN</td>\n",
       "      <td>NaN</td>\n",
       "      <td>NaN</td>\n",
       "      <td>NaN</td>\n",
       "    </tr>\n",
       "  </tbody>\n",
       "</table>\n",
       "<p>5 rows × 2369 columns</p>\n",
       "</div>"
      ],
      "text/plain": [
       "   month countryname  sales_actuals_monthly__vehiclegroup01__orderintake  \\\n",
       "0      1   Country A                                              296.0    \n",
       "1      2   Country A                                              414.0    \n",
       "2      3   Country A                                              405.0    \n",
       "3      4   Country A                                              359.0    \n",
       "4      5   Country A                                              403.0    \n",
       "\n",
       "   sales_actuals_monthly__vehiclegroup01__retail  \\\n",
       "0                                          352.0   \n",
       "1                                          372.0   \n",
       "2                                          604.0   \n",
       "3                                          483.0   \n",
       "4                                          474.0   \n",
       "\n",
       "   sales_actuals_monthly__vehiclegroup02__orderintake  \\\n",
       "0                                              739.0    \n",
       "1                                              904.0    \n",
       "2                                             1000.0    \n",
       "3                                              828.0    \n",
       "4                                              594.0    \n",
       "\n",
       "   sales_actuals_monthly__vehiclegroup02__retail  \\\n",
       "0                                          471.0   \n",
       "1                                          528.0   \n",
       "2                                          953.0   \n",
       "3                                          972.0   \n",
       "4                                          900.0   \n",
       "\n",
       "   sales_actuals_monthly__vehiclegroup03__orderintake  \\\n",
       "0                                                NaN    \n",
       "1                                                NaN    \n",
       "2                                                NaN    \n",
       "3                                                NaN    \n",
       "4                                                NaN    \n",
       "\n",
       "   sales_actuals_monthly__vehiclegroup03__retail  \\\n",
       "0                                            NaN   \n",
       "1                                            NaN   \n",
       "2                                            NaN   \n",
       "3                                            NaN   \n",
       "4                                            NaN   \n",
       "\n",
       "   sales_actuals_monthly__vehiclegroup04__orderintake  \\\n",
       "0                                                NaN    \n",
       "1                                                NaN    \n",
       "2                                                NaN    \n",
       "3                                                NaN    \n",
       "4                                                NaN    \n",
       "\n",
       "   sales_actuals_monthly__vehiclegroup04__retail  ...  \\\n",
       "0                                            NaN  ...   \n",
       "1                                            NaN  ...   \n",
       "2                                            NaN  ...   \n",
       "3                                            NaN  ...   \n",
       "4                                            NaN  ...   \n",
       "\n",
       "   registrations__buildtype_suv  registrations__buildtype_transport  \\\n",
       "0                           NaN                                 NaN   \n",
       "1                           NaN                                 NaN   \n",
       "2                           NaN                                 NaN   \n",
       "3                           NaN                                 NaN   \n",
       "4                           NaN                                 NaN   \n",
       "\n",
       "   registrations__buildtype_van  registrations__buildtype_cabrio  \\\n",
       "0                           NaN                              NaN   \n",
       "1                           NaN                              NaN   \n",
       "2                           NaN                              NaN   \n",
       "3                           NaN                              NaN   \n",
       "4                           NaN                              NaN   \n",
       "\n",
       "   registrations__buildtype_stufenheck  registrations__buildtype_kurzheck  \\\n",
       "0                                  NaN                                NaN   \n",
       "1                                  NaN                                NaN   \n",
       "2                                  NaN                                NaN   \n",
       "3                                  NaN                                NaN   \n",
       "4                                  NaN                                NaN   \n",
       "\n",
       "   registrations__buildtype_other  registrations__buildtype_pickup  \\\n",
       "0                             NaN                              NaN   \n",
       "1                             NaN                              NaN   \n",
       "2                             NaN                              NaN   \n",
       "3                             NaN                              NaN   \n",
       "4                             NaN                              NaN   \n",
       "\n",
       "   registrations__buildtype_coupe  registrations__buildtype_kombi  \n",
       "0                             NaN                             NaN  \n",
       "1                             NaN                             NaN  \n",
       "2                             NaN                             NaN  \n",
       "3                             NaN                             NaN  \n",
       "4                             NaN                             NaN  \n",
       "\n",
       "[5 rows x 2369 columns]"
      ]
     },
     "execution_count": 2,
     "metadata": {},
     "output_type": "execute_result"
    }
   ],
   "source": [
    "df = pd.read_csv(\"../Data/kitCapstoneJan24_data.csv\", delimiter=\";\")\n",
    "external_data = pd.read_csv(\"../Data/external_data.csv\")\n",
    "df.head()"
   ]
  },
  {
   "cell_type": "code",
   "execution_count": 3,
   "metadata": {},
   "outputs": [
    {
     "name": "stdout",
     "output_type": "stream",
     "text": [
      "['01', '02', '03', '04', '05', '06', '07', '08', '09', '10', '11', '12', '13', '14', '15', '16', '17', '18', '19', '20', '21', '22', '23', '24', '25', '26', '27', '28', '29', '30', '31', '32', '33', '34', '35', '36', '37', '38', '39', '40', '41', '42', '43', '44', '45', '46', '47', '48', '49', '50', '51', '52', '53', '54', '55', '56', '57', '58', '59', '60', '61', '62', '63', '64']\n",
      "['Country A', 'Country B', 'Country C', 'Country D']\n"
     ]
    }
   ],
   "source": [
    "vehicle_group_list = [f'{i:02}' for i in range(1, 65)]\n",
    "country_list = [f'Country {name}' for name in ['A', 'B', 'C', 'D']]\n",
    "print(vehicle_group_list)\n",
    "print(country_list)"
   ]
  },
  {
   "cell_type": "code",
   "execution_count": 4,
   "metadata": {},
   "outputs": [],
   "source": [
    "for country in country_list:\n",
    "    for veh_group in vehicle_group_list:\n",
    "        vehicle_name = \"vehicle\" + veh_group"
   ]
  },
  {
   "cell_type": "code",
   "execution_count": 6,
   "metadata": {},
   "outputs": [
    {
     "data": {
      "text/html": [
       "<div>\n",
       "<style scoped>\n",
       "    .dataframe tbody tr th:only-of-type {\n",
       "        vertical-align: middle;\n",
       "    }\n",
       "\n",
       "    .dataframe tbody tr th {\n",
       "        vertical-align: top;\n",
       "    }\n",
       "\n",
       "    .dataframe thead th {\n",
       "        text-align: right;\n",
       "    }\n",
       "</style>\n",
       "<table border=\"1\" class=\"dataframe\">\n",
       "  <thead>\n",
       "    <tr style=\"text-align: right;\">\n",
       "      <th></th>\n",
       "      <th>sales_actuals_monthly__vehiclegroup01__orderintake</th>\n",
       "      <th>sales_actuals_monthly__vehiclegroup01__retail</th>\n",
       "      <th>sales_flow_monthly__vehiclegroup01__cp8</th>\n",
       "      <th>sales_stock_monthly__vehiclegroup01__physical</th>\n",
       "      <th>sales_stock_monthly__vehiclegroup01__grossall</th>\n",
       "      <th>sales_stock_monthly__vehiclegroup01__netimporteranddealer</th>\n",
       "      <th>customer_vehicle_relationships__vehiclegroup01__terminated_cars</th>\n",
       "      <th>customer_vehicle_relationships__vehiclegroup01__active_cars</th>\n",
       "      <th>leads__vehiclegroup01__won</th>\n",
       "      <th>leads__vehiclegroup01__first_touch_point</th>\n",
       "      <th>leads__vehiclegroup01__lost</th>\n",
       "      <th>leasing_contracts__vehiclegroup01__end</th>\n",
       "      <th>leasing_contracts__vehiclegroup01__start</th>\n",
       "      <th>premises__vehiclegroup01__flag_order_start</th>\n",
       "      <th>premises__vehiclegroup01__in_sales</th>\n",
       "      <th>premises__vehiclegroup01__flag_production_start</th>\n",
       "      <th>premises__vehiclegroup01__in_production</th>\n",
       "      <th>quota__vehiclegroup01__aq</th>\n",
       "    </tr>\n",
       "  </thead>\n",
       "  <tbody>\n",
       "    <tr>\n",
       "      <th>0</th>\n",
       "      <td>296.0</td>\n",
       "      <td>352.0</td>\n",
       "      <td>NaN</td>\n",
       "      <td>NaN</td>\n",
       "      <td>NaN</td>\n",
       "      <td>NaN</td>\n",
       "      <td>0.0</td>\n",
       "      <td>25.0</td>\n",
       "      <td>NaN</td>\n",
       "      <td>NaN</td>\n",
       "      <td>NaN</td>\n",
       "      <td>0.0</td>\n",
       "      <td>81.0</td>\n",
       "      <td>NaN</td>\n",
       "      <td>NaN</td>\n",
       "      <td>NaN</td>\n",
       "      <td>NaN</td>\n",
       "      <td>NaN</td>\n",
       "    </tr>\n",
       "    <tr>\n",
       "      <th>1</th>\n",
       "      <td>414.0</td>\n",
       "      <td>372.0</td>\n",
       "      <td>NaN</td>\n",
       "      <td>NaN</td>\n",
       "      <td>NaN</td>\n",
       "      <td>NaN</td>\n",
       "      <td>1.0</td>\n",
       "      <td>102.0</td>\n",
       "      <td>NaN</td>\n",
       "      <td>NaN</td>\n",
       "      <td>NaN</td>\n",
       "      <td>4.0</td>\n",
       "      <td>130.0</td>\n",
       "      <td>NaN</td>\n",
       "      <td>NaN</td>\n",
       "      <td>NaN</td>\n",
       "      <td>NaN</td>\n",
       "      <td>NaN</td>\n",
       "    </tr>\n",
       "    <tr>\n",
       "      <th>2</th>\n",
       "      <td>405.0</td>\n",
       "      <td>604.0</td>\n",
       "      <td>NaN</td>\n",
       "      <td>NaN</td>\n",
       "      <td>NaN</td>\n",
       "      <td>NaN</td>\n",
       "      <td>2.0</td>\n",
       "      <td>152.0</td>\n",
       "      <td>NaN</td>\n",
       "      <td>NaN</td>\n",
       "      <td>NaN</td>\n",
       "      <td>2.0</td>\n",
       "      <td>145.0</td>\n",
       "      <td>NaN</td>\n",
       "      <td>NaN</td>\n",
       "      <td>NaN</td>\n",
       "      <td>NaN</td>\n",
       "      <td>NaN</td>\n",
       "    </tr>\n",
       "    <tr>\n",
       "      <th>3</th>\n",
       "      <td>359.0</td>\n",
       "      <td>483.0</td>\n",
       "      <td>NaN</td>\n",
       "      <td>NaN</td>\n",
       "      <td>NaN</td>\n",
       "      <td>NaN</td>\n",
       "      <td>2.0</td>\n",
       "      <td>75.0</td>\n",
       "      <td>NaN</td>\n",
       "      <td>NaN</td>\n",
       "      <td>NaN</td>\n",
       "      <td>2.0</td>\n",
       "      <td>183.0</td>\n",
       "      <td>NaN</td>\n",
       "      <td>NaN</td>\n",
       "      <td>NaN</td>\n",
       "      <td>NaN</td>\n",
       "      <td>NaN</td>\n",
       "    </tr>\n",
       "    <tr>\n",
       "      <th>4</th>\n",
       "      <td>403.0</td>\n",
       "      <td>474.0</td>\n",
       "      <td>NaN</td>\n",
       "      <td>NaN</td>\n",
       "      <td>NaN</td>\n",
       "      <td>NaN</td>\n",
       "      <td>10.0</td>\n",
       "      <td>91.0</td>\n",
       "      <td>NaN</td>\n",
       "      <td>NaN</td>\n",
       "      <td>NaN</td>\n",
       "      <td>4.0</td>\n",
       "      <td>201.0</td>\n",
       "      <td>NaN</td>\n",
       "      <td>NaN</td>\n",
       "      <td>NaN</td>\n",
       "      <td>NaN</td>\n",
       "      <td>NaN</td>\n",
       "    </tr>\n",
       "  </tbody>\n",
       "</table>\n",
       "</div>"
      ],
      "text/plain": [
       "   sales_actuals_monthly__vehiclegroup01__orderintake  \\\n",
       "0                                              296.0    \n",
       "1                                              414.0    \n",
       "2                                              405.0    \n",
       "3                                              359.0    \n",
       "4                                              403.0    \n",
       "\n",
       "   sales_actuals_monthly__vehiclegroup01__retail  \\\n",
       "0                                          352.0   \n",
       "1                                          372.0   \n",
       "2                                          604.0   \n",
       "3                                          483.0   \n",
       "4                                          474.0   \n",
       "\n",
       "   sales_flow_monthly__vehiclegroup01__cp8  \\\n",
       "0                                      NaN   \n",
       "1                                      NaN   \n",
       "2                                      NaN   \n",
       "3                                      NaN   \n",
       "4                                      NaN   \n",
       "\n",
       "   sales_stock_monthly__vehiclegroup01__physical  \\\n",
       "0                                            NaN   \n",
       "1                                            NaN   \n",
       "2                                            NaN   \n",
       "3                                            NaN   \n",
       "4                                            NaN   \n",
       "\n",
       "   sales_stock_monthly__vehiclegroup01__grossall  \\\n",
       "0                                            NaN   \n",
       "1                                            NaN   \n",
       "2                                            NaN   \n",
       "3                                            NaN   \n",
       "4                                            NaN   \n",
       "\n",
       "   sales_stock_monthly__vehiclegroup01__netimporteranddealer  \\\n",
       "0                                                NaN           \n",
       "1                                                NaN           \n",
       "2                                                NaN           \n",
       "3                                                NaN           \n",
       "4                                                NaN           \n",
       "\n",
       "   customer_vehicle_relationships__vehiclegroup01__terminated_cars  \\\n",
       "0                                                0.0                 \n",
       "1                                                1.0                 \n",
       "2                                                2.0                 \n",
       "3                                                2.0                 \n",
       "4                                               10.0                 \n",
       "\n",
       "   customer_vehicle_relationships__vehiclegroup01__active_cars  \\\n",
       "0                                               25.0             \n",
       "1                                              102.0             \n",
       "2                                              152.0             \n",
       "3                                               75.0             \n",
       "4                                               91.0             \n",
       "\n",
       "   leads__vehiclegroup01__won  leads__vehiclegroup01__first_touch_point  \\\n",
       "0                         NaN                                       NaN   \n",
       "1                         NaN                                       NaN   \n",
       "2                         NaN                                       NaN   \n",
       "3                         NaN                                       NaN   \n",
       "4                         NaN                                       NaN   \n",
       "\n",
       "   leads__vehiclegroup01__lost  leasing_contracts__vehiclegroup01__end  \\\n",
       "0                          NaN                                     0.0   \n",
       "1                          NaN                                     4.0   \n",
       "2                          NaN                                     2.0   \n",
       "3                          NaN                                     2.0   \n",
       "4                          NaN                                     4.0   \n",
       "\n",
       "   leasing_contracts__vehiclegroup01__start  \\\n",
       "0                                      81.0   \n",
       "1                                     130.0   \n",
       "2                                     145.0   \n",
       "3                                     183.0   \n",
       "4                                     201.0   \n",
       "\n",
       "   premises__vehiclegroup01__flag_order_start  \\\n",
       "0                                         NaN   \n",
       "1                                         NaN   \n",
       "2                                         NaN   \n",
       "3                                         NaN   \n",
       "4                                         NaN   \n",
       "\n",
       "   premises__vehiclegroup01__in_sales  \\\n",
       "0                                 NaN   \n",
       "1                                 NaN   \n",
       "2                                 NaN   \n",
       "3                                 NaN   \n",
       "4                                 NaN   \n",
       "\n",
       "   premises__vehiclegroup01__flag_production_start  \\\n",
       "0                                              NaN   \n",
       "1                                              NaN   \n",
       "2                                              NaN   \n",
       "3                                              NaN   \n",
       "4                                              NaN   \n",
       "\n",
       "   premises__vehiclegroup01__in_production  quota__vehiclegroup01__aq  \n",
       "0                                      NaN                        NaN  \n",
       "1                                      NaN                        NaN  \n",
       "2                                      NaN                        NaN  \n",
       "3                                      NaN                        NaN  \n",
       "4                                      NaN                        NaN  "
      ]
     },
     "execution_count": 6,
     "metadata": {},
     "output_type": "execute_result"
    }
   ],
   "source": [
    "veh01_data = df.filter(regex='vehiclegroup01')\n",
    "veh01_A = veh01_data.loc[df[\"countryname\"] == \"Country A\",:]\n",
    "veh01_A.head()"
   ]
  },
  {
   "cell_type": "code",
   "execution_count": 38,
   "metadata": {},
   "outputs": [
    {
     "data": {
      "text/plain": [
       "<Figure size 2160x2160 with 0 Axes>"
      ]
     },
     "metadata": {},
     "output_type": "display_data"
    },
    {
     "data": {
      "image/png": "[encoded data removed]",
      "text/plain": [
       "<Figure size 432x288 with 20 Axes>"
      ]
     },
     "metadata": {
      "needs_background": "light"
     },
     "output_type": "display_data"
    }
   ],
   "source": [
    "plt.figure(figsize=(30, 30))\n",
    "veh01_A.hist()\n",
    "plt.show()"
   ]
  },
  {
   "cell_type": "code",
   "execution_count": 16,
   "metadata": {},
   "outputs": [
    {
     "name": "stdout",
     "output_type": "stream",
     "text": [
      "customer_vehicle_relationships__vehiclegroup01__active_cars    0.439494\n",
      "leads__vehiclegroup01__won                                     0.392761\n",
      "dtype: float64\n"
     ]
    },
    {
     "data": {
      "image/png": "[encoded data removed]",
      "text/plain": [
       "<Figure size 432x288 with 1 Axes>"
      ]
     },
     "metadata": {
      "needs_background": "light"
     },
     "output_type": "display_data"
    }
   ],
   "source": [
    "in_correlation = veh01_A.iloc[:, 1:].corrwith(veh01_A[\"sales_actuals_monthly__vehiclegroup01__orderintake\"])\n",
    "print(in_correlation[abs(in_correlation) > 0.39])\n",
    "colors = ['red' if abs(val) > 0.39 else 'grey' for val in in_correlation]\n",
    "ax = in_correlation.plot.barh(color=colors)\n",
    "ax.axvline(x=0.39, color='black', linestyle='dotted')\n",
    "ax.set_xticks([0.39])\n",
    "yticks = ax.get_yticklabels()\n",
    "ytick_labels = [label.get_text().replace(\"__vehiclegroup01__\", \"_\") for label in yticks]\n",
    "ax.set_yticklabels(ytick_labels)\n",
    "plt.show()"
   ]
  },
  {
   "cell_type": "markdown",
   "metadata": {},
   "source": [
    "## External features"
   ]
  },
  {
   "cell_type": "code",
   "execution_count": 8,
   "metadata": {},
   "outputs": [
    {
     "data": {
      "image/png": "[encoded data removed]",
      "text/plain": [
       "<Figure size 1080x432 with 1 Axes>"
      ]
     },
     "metadata": {
      "needs_background": "light"
     },
     "output_type": "display_data"
    }
   ],
   "source": [
    "external_data.drop(columns=['month', 'countryname'], inplace=True)\n",
    "ex_correlation = external_data.corrwith(veh01_A[\"sales_actuals_monthly__vehiclegroup01__orderintake\"])\n",
    "\n",
    "plt.figure(figsize=(15, 6))\n",
    "ex_correlation.plot.box(vert=False)\n",
    "plt.show()"
   ]
  },
  {
   "cell_type": "code",
   "execution_count": 20,
   "metadata": {},
   "outputs": [
    {
     "data": {
      "text/plain": [
       "360"
      ]
     },
     "execution_count": 20,
     "metadata": {},
     "output_type": "execute_result"
    }
   ],
   "source": [
    "len(veh01_A)"
   ]
  },
  {
   "cell_type": "code",
   "execution_count": 19,
   "metadata": {},
   "outputs": [
    {
     "data": {
      "text/plain": [
       "1440"
      ]
     },
     "execution_count": 19,
     "metadata": {},
     "output_type": "execute_result"
    }
   ],
   "source": [
    "len(external_data)"
   ]
  },
  {
   "cell_type": "markdown",
   "metadata": {},
   "source": [
    "The middle 50% of the data (interquartile range) has value smaller quite small. We visualize only features with correlation larger than +-0.4"
   ]
  },
  {
   "cell_type": "code",
   "execution_count": 18,
   "metadata": {},
   "outputs": [
    {
     "name": "stdout",
     "output_type": "stream",
     "text": [
      "registrations__porschesegment_boxster_cayman    0.422616\n",
      "registrations__porschesegment_panamera          0.462833\n",
      "registrations__porschesegment_911               0.514184\n",
      "registrations__volkswagensegment_luxus          0.512296\n",
      "registrations__vwm_luxus_ferrari                0.594696\n",
      "registrations__vwm_luxus_lamborghini            0.456431\n",
      "registrations__buildtype_cabrio                 0.610076\n",
      "registrations__buildtype_pickup                 0.545101\n",
      "dtype: float64\n"
     ]
    }
   ],
   "source": [
    "large_corr_ex_features = ex_correlation[abs(ex_correlation) > 0.4]\n",
    "print(large_corr_ex_features)"
   ]
  },
  {
   "cell_type": "code",
   "execution_count": 15,
   "metadata": {},
   "outputs": [
    {
     "data": {
      "image/png": "[encoded data removed]",
      "text/plain": [
       "<Figure size 432x288 with 1 Axes>"
      ]
     },
     "metadata": {
      "needs_background": "light"
     },
     "output_type": "display_data"
    }
   ],
   "source": [
    "plt.barh(large_corr_ex_features.index, large_corr_ex_features.values)\n",
    "plt.show()"
   ]
  },
  {
   "cell_type": "markdown",
   "metadata": {},
   "source": [
    "## Visualize number of features for each vehicle group"
   ]
  },
  {
   "cell_type": "code",
   "execution_count": 11,
   "metadata": {},
   "outputs": [],
   "source": [
    "# vec_dict = {}\n",
    "# for veh in vehicle_group_list:\n",
    "#     vec_dict[veh] = len(internal_data.filter(regex=f\"vehiclegroup{veh}\").columns)\n",
    "\n",
    "# df_temp = pd.DataFrame(vec_dict.items(), columns=['Vehicle group', 'No. of features'])\n",
    "\n",
    "# plt.figure(figsize=(14, 7), facecolor='white')\n",
    "# colors = ['red' if i in [49, 52, 55] else 'grey' for i in range(1, len(df_temp)+1)]\n",
    "# colors[:6] = [\"lightblue\"] * 6\n",
    "# plt.bar(df_temp['Vehicle group'], df_temp['No. of features'], color=colors, edgecolor='none')\n",
    "# plt.axhline(y=5, xmax=0.82, color='black', linestyle='dotted')\n",
    "\n",
    "# plt.xlabel('Vehicle group', fontsize=15)\n",
    "# plt.ylabel('No. of features', fontsize=15)\n",
    "# plt.title('Number of features for each vehicle group', fontsize=25)\n",
    "# plt.xticks([\"01\", \"06\"] + [\"49\", \"52\", \"55\"], fontsize=10)\n",
    "# plt.yticks([5,15,18], fontsize=15)\n",
    "# plt.tight_layout()\n",
    "# plt.box(False)\n",
    "# plt.savefig(\"../img/vehicle_vs_internal_features.png\", bbox_inches='tight')\n",
    "# plt.show()"
   ]
  },
  {
   "cell_type": "code",
   "execution_count": 12,
   "metadata": {},
   "outputs": [
    {
     "ename": "NameError",
     "evalue": "name 'internal_data' is not defined",
     "output_type": "error",
     "traceback": [
      "\u001b[1;31m---------------------------------------------------------------------------\u001b[0m",
      "\u001b[1;31mNameError\u001b[0m                                 Traceback (most recent call last)",
      "\u001b[1;32m<ipython-input-12-f04ebf2e6a3d>\u001b[0m in \u001b[0;36m<module>\u001b[1;34m\u001b[0m\n\u001b[1;32m----> 1\u001b[1;33m \u001b[0mlen\u001b[0m\u001b[1;33m(\u001b[0m\u001b[0minternal_data\u001b[0m\u001b[1;33m.\u001b[0m\u001b[0mcolumns\u001b[0m\u001b[1;33m)\u001b[0m \u001b[1;33m+\u001b[0m \u001b[0mlen\u001b[0m\u001b[1;33m(\u001b[0m\u001b[0mexternal_data\u001b[0m\u001b[1;33m.\u001b[0m\u001b[0mcolumns\u001b[0m\u001b[1;33m)\u001b[0m\u001b[1;33m,\u001b[0m \u001b[0mlen\u001b[0m\u001b[1;33m(\u001b[0m\u001b[0minternal_data\u001b[0m\u001b[1;33m.\u001b[0m\u001b[0mcolumns\u001b[0m\u001b[1;33m)\u001b[0m \u001b[1;33m+\u001b[0m \u001b[0mlen\u001b[0m\u001b[1;33m(\u001b[0m\u001b[0mexternal_data\u001b[0m\u001b[1;33m.\u001b[0m\u001b[0mcolumns\u001b[0m\u001b[1;33m)\u001b[0m \u001b[1;33m==\u001b[0m \u001b[0mlen\u001b[0m\u001b[1;33m(\u001b[0m\u001b[0mdf\u001b[0m\u001b[1;33m.\u001b[0m\u001b[0mcolumns\u001b[0m\u001b[1;33m)\u001b[0m\u001b[1;33m\u001b[0m\u001b[1;33m\u001b[0m\u001b[0m\n\u001b[0m",
      "\u001b[1;31mNameError\u001b[0m: name 'internal_data' is not defined"
     ]
    }
   ],
   "source": [
    "len(internal_data.columns) + len(external_data.columns), len(internal_data.columns) + len(external_data.columns) == len(df.columns)"
   ]
  },
  {
   "cell_type": "code",
   "execution_count": null,
   "metadata": {},
   "outputs": [],
   "source": [
    "# interal_features.to_csv('../Data/internal_data.csv', index=False)\n",
    "# external_features.to_csv('../Data/external_data.csv', index=False)"
   ]
  }
 ],
 "metadata": {
  "kernelspec": {
   "display_name": "base",
   "language": "python",
   "name": "python3"
  },
  "language_info": {
   "codemirror_mode": {
    "name": "ipython",
    "version": 3
   },
   "file_extension": ".py",
   "mimetype": "text/x-python",
   "name": "python",
   "nbconvert_exporter": "python",
   "pygments_lexer": "ipython3",
   "version": "3.8.3"
  }
 },
 "nbformat": 4,
 "nbformat_minor": 2
}
