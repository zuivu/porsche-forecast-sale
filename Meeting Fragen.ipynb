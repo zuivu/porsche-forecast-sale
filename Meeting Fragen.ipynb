{
 "cells": [
  {
   "cell_type": "markdown",
   "source": [
    "# Fragen im meeting\n",
    "\n",
    "###Was sind die verschiedenen Vehicle Groups?\n",
    "-> Es gibt 6 Modellbaureihen von Porsche, jede Modellbaureihe hat verschiedene Ausführungen (mehrere 911er). \n",
    "-> \"Derivate\" in der Fachsprache -> lange Liste verschiedener Typen der eigene Modelle, z.B. Carrera, 4er Allradantrieb, GTAs, etc\n",
    "-> bodytypes: SUV, Coupe, ... -> Taycan has 3 bodytypes -> porsche.com\n",
    "-> Vehiclegroups represent groups of derivates or derivates alone \n",
    "-> e.g. 1-6 are model series, e.g. 8 is 911-basic, 9 is 911-S, 10 is 911-tubo etc -> all grouped; some model series are more stable\n",
    "-> Just plot the vehicle groups to see which of them have peaks where -> special models like GT3 or similar\n",
    "-> stable curves are probably model series \n",
    "\n",
    "\n",
    "### What do you expect from us in the end?\n",
    "-> Jupyter notebook, graphs etc. are all fine\n",
    "-> They want an artifact in the end\n",
    "-> WebApp with time series visualization\n",
    "-> Q&A App\n",
    "-> Dashboard is the most obvious solution\n",
    "\n",
    "\n",
    "### Is the artifact more about the results or about story-telling?\n",
    "-> Strategic question, depends on the award you'd like to win\n",
    "-> Artifact vs. Data Visualization & Storytelling\n",
    "-> awesome dashboard :)\n",
    "\n",
    "### When does the data start?\n",
    "-> less than 5 years ago, later than 2023\n",
    "-> no exact value\n",
    "\n",
    "### Which month does the last data value correspond to?\n",
    "-> Year starts with 01 : Jan\n",
    "\n",
    "### Reconstructing the data does not help Porsche!\n",
    "-> They know what it is!\n",
    "\n",
    "\n",
    "### Is the data open source?\n",
    "-> Not really. public data collected from company that has the business model of collect and sell all data.\n",
    "\n",
    "### Are the values predicted or existing?\n"
   ],
   "metadata": {
    "collapsed": false
   },
   "id": "ee55765d0ea85391"
  },
  {
   "cell_type": "code",
   "execution_count": null,
   "outputs": [],
   "source": [],
   "metadata": {
    "collapsed": false
   },
   "id": "923a79e75c4becd1"
  }
 ],
 "metadata": {
  "kernelspec": {
   "display_name": "Python 3",
   "language": "python",
   "name": "python3"
  },
  "language_info": {
   "codemirror_mode": {
    "name": "ipython",
    "version": 2
   },
   "file_extension": ".py",
   "mimetype": "text/x-python",
   "name": "python",
   "nbconvert_exporter": "python",
   "pygments_lexer": "ipython2",
   "version": "2.7.6"
  }
 },
 "nbformat": 4,
 "nbformat_minor": 5
}
