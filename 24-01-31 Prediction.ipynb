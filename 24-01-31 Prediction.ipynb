{
 "cells": [
  {
   "cell_type": "markdown",
   "metadata": {},
   "source": [
    "## Import Statements"
   ]
  },
  {
   "cell_type": "code",
   "execution_count": null,
   "metadata": {},
   "outputs": [],
   "source": [
    "import pandas as pd\n",
    "import numpy as np\n",
    "\n",
    "from sklearn.metrics import mean_squared_error, mean_absolute_error\n",
    "import matplotlib.pyplot as plt\n",
    "\n",
    "from prophet import Prophet\n",
    "import xgboost\n"
   ]
  },
  {
   "cell_type": "code",
   "execution_count": null,
   "metadata": {},
   "outputs": [],
   "source": []
  },
  {
   "cell_type": "markdown",
   "metadata": {},
   "source": [
    "## Getting Data"
   ]
  },
  {
   "cell_type": "code",
   "execution_count": null,
   "metadata": {},
   "outputs": [],
   "source": [
    "\n",
    "    "
   ]
  },
  {
   "cell_type": "code",
   "execution_count": null,
   "metadata": {},
   "outputs": [],
   "source": []
  },
  {
   "cell_type": "markdown",
   "metadata": {},
   "source": [
    "## Prophet"
   ]
  },
  {
   "cell_type": "code",
   "execution_count": null,
   "metadata": {},
   "outputs": [],
   "source": [
    "#Data Prep for Prophet\n",
    "train = pd.DataFrame()\n",
    "test = pd.DataFrame()\n",
    "\n",
    "train_pro = train\n",
    "train_pro[\"y\"] = train_pro[\"sales_actuals_monthly__vehiclegroup01__orderintake\"]\n",
    "train_pro = train.drop(\"sales_actuals_monthly__vehiclegroup01__orderintake\", axis = 1)\n",
    "\n",
    "train_pro[\"ds\"] = train_pro.index\n",
    "\n",
    "# Convert the 'ds' column to datetime format\n",
    "start_date = '2000-01-01'  # Adjust this date to your needs\n",
    "train_pro['ds'] = pd.to_datetime(train_pro['ds'].apply(lambda x: pd.DateOffset(months=x) + pd.Timestamp(start_date)))"
   ]
  },
  {
   "cell_type": "code",
   "execution_count": null,
   "metadata": {},
   "outputs": [],
   "source": [
    "m = Prophet()\n",
    "\n",
    "# Fit the model with train set\n",
    "m.fit(train_pro)\n",
    "\n",
    "future = m.make_future_dataframe(periods=18, freq = \"MS\")\n",
    "\n",
    "# Make predictions on the test set dates\n",
    "forecast_pro = m.predict(future)\n",
    "\n",
    "forecast_pro = forecast_pro.iloc[240:, :]\n",
    "\n",
    "# Calculate errors\n",
    "mse = mean_squared_error(test_pro['y'], forecast_pro['yhat'])\n",
    "mae = mean_absolute_error(test_pro['y'], forecast_pro['yhat'])\n",
    "\n",
    "print('Mean Squared Error:', mse)\n",
    "print('Mean Absolute Error:', mae)"
   ]
  },
  {
   "cell_type": "code",
   "execution_count": null,
   "metadata": {},
   "outputs": [],
   "source": [
    "\n",
    "# Create a new figure\n",
    "plt.figure()\n",
    "\n",
    "# Plot y_test\n",
    "plt.plot(test_pro[\"y\"] , label='Actual')\n",
    "\n",
    "# Plot y_pred\n",
    "plt.plot(forecast_pro[\"yhat\"], label='Predicted')\n",
    "\n",
    "# Add a legend\n",
    "plt.legend()\n",
    "\n",
    "# Show the plot\n",
    "plt.show()"
   ]
  },
  {
   "cell_type": "markdown",
   "metadata": {},
   "source": [
    "## XGBRegressor"
   ]
  },
  {
   "cell_type": "code",
   "execution_count": null,
   "metadata": {},
   "outputs": [],
   "source": [
    "lag = 18\n",
    "\n",
    "y_train_XGB = y_train.iloc[:-lag]\n",
    "y_test_XGB = y_train.iloc[-lag:]\n",
    "\n",
    "X_train_XGB = X_train.iloc[:-lag, :]\n",
    "X_test_XGB = X_train.iloc[-lag:, :]\n",
    "\n",
    "print(y_train_XGB.shape)\n",
    "print(y_test_XGB.shape)\n",
    "print(X_train_XGB.shape)\n",
    "print(X_test_XGB.shape)"
   ]
  },
  {
   "cell_type": "code",
   "execution_count": null,
   "metadata": {},
   "outputs": [],
   "source": [
    "# Train a XGBClassifier\n",
    "model_3 = xgboost.XGBRegressor(use_label_encoder=False, eval_metric=\"mae\").fit(X_train_XGB, y_train_XGB)"
   ]
  },
  {
   "cell_type": "code",
   "execution_count": null,
   "metadata": {},
   "outputs": [],
   "source": [
    "y_test_XGB = y_test_XGB.reset_index()\n",
    "y_test_XGB = y_test_XGB.drop(\"index\", axis = 1)"
   ]
  },
  {
   "cell_type": "code",
   "execution_count": null,
   "metadata": {},
   "outputs": [],
   "source": [
    "forecast_xgb = model_3.predict(X_test_XGB)\n",
    "\n",
    "# Create a new figure\n",
    "plt.figure()\n",
    "\n",
    "# Plot y_test\n",
    "plt.plot(y_test_XGB , label='Actual')\n",
    "\n",
    "# Plot y_pred\n",
    "plt.plot(forecast_xgb, label='Predicted')\n",
    "\n",
    "# Add a legend\n",
    "plt.legend()\n",
    "\n",
    "# Show the plot\n",
    "plt.show()"
   ]
  }
 ],
 "metadata": {
  "kernelspec": {
   "display_name": ".venv",
   "language": "python",
   "name": "python3"
  },
  "language_info": {
   "name": "python",
   "version": "3.8.0"
  }
 },
 "nbformat": 4,
 "nbformat_minor": 2
}
