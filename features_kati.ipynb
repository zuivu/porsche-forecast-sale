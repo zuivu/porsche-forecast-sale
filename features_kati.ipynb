{
 "cells": [
  {
   "cell_type": "code",
   "execution_count": null,
   "metadata": {},
   "outputs": [],
   "source": [
    "import pandas as pd"
   ]
  },
  {
   "cell_type": "code",
   "execution_count": null,
   "metadata": {},
   "outputs": [],
   "source": [
    "df = pd.read_csv(\"Data/kitCapstoneJan24_data.csv\", sep=\";\")"
   ]
  },
  {
   "cell_type": "markdown",
   "metadata": {},
   "source": [
    "## selecting the country that we want"
   ]
  },
  {
   "cell_type": "code",
   "execution_count": null,
   "metadata": {},
   "outputs": [],
   "source": [
    "selected_country = 'Country A'\n",
    "#Get rows with for country A\n",
    "\n",
    "df_country_a = df[df['countryname'] == selected_country]\n",
    "df_country_a"
   ]
  },
  {
   "cell_type": "markdown",
   "metadata": {},
   "source": [
    "## building a additional feature for months (1-12)\n",
    "\n",
    "important for meanbymonth"
   ]
  },
  {
   "cell_type": "code",
   "execution_count": null,
   "metadata": {},
   "outputs": [],
   "source": [
    "df_country_a['month_normalized'] = df_country_a['month'] % 12\n",
    "df_country_a\n",
    "\n",
    "df_country_a = df_country_a[['month_normalized','month', 'countryname'] + [col for col in df_country_a.columns if col not in ['month_normalized','month', 'countryname']]]\n",
    "\n",
    "df_country_a"
   ]
  },
  {
   "cell_type": "markdown",
   "metadata": {},
   "source": [
    "## select an vehiclegroup"
   ]
  },
  {
   "cell_type": "code",
   "execution_count": null,
   "metadata": {},
   "outputs": [],
   "source": [
    "selcted_vehiclegroup = 'vehiclegroup01'\n",
    "\n",
    "# delete all columns that are for a diffe\n",
    "\n",
    "df1 = df_country_a\n",
    "\n",
    "# create new dataframe with month and all columns containing vehiclegroup01\n",
    "df2 = df1.filter(regex=selcted_vehiclegroup)\n",
    "df2.head()\n",
    "\n",
    "# drop columns in df1 which contain vehiclegroup\n",
    "df3 = df1.drop(df1.filter(regex='vehiclegroup').columns, axis=1)\n",
    "df3.head()\n",
    "\n",
    "# merge df2 and df3 by index\n",
    "df4 = df2.merge(df3, left_index=True, right_index=True)\n",
    "df4.head()\n",
    "\n",
    "# is there a column month in df4?\n",
    "df4.columns.str.contains('month').any()\n",
    "# column month should be the first column, second column is countryname\n",
    "df4 = df4[['month_normalized','month', 'countryname'] + [col for col in df4.columns if col not in ['month_normalized','month', 'countryname']]]"
   ]
  },
  {
   "cell_type": "code",
   "execution_count": null,
   "metadata": {},
   "outputs": [],
   "source": [
    "# drop rows after row 258 (incl. leasing data)\n",
    "test = df4.drop(df4.index[258:])"
   ]
  },
  {
   "cell_type": "markdown",
   "metadata": {},
   "source": [
    "## build different dataframes for internal and external data"
   ]
  },
  {
   "cell_type": "code",
   "execution_count": null,
   "metadata": {},
   "outputs": [],
   "source": [
    "# dataframe with first 18 columns (internal data)\n",
    "df_internal = test.iloc[:, :21]\n",
    "df_internal.head()"
   ]
  },
  {
   "cell_type": "code",
   "execution_count": null,
   "metadata": {},
   "outputs": [],
   "source": [
    "# dataframe with external features\n",
    "df_external = test.iloc[:, 21:]\n",
    "df_external.head()"
   ]
  },
  {
   "cell_type": "markdown",
   "metadata": {},
   "source": [
    "# building target values\n"
   ]
  },
  {
   "cell_type": "code",
   "execution_count": 1,
   "metadata": {},
   "outputs": [
    {
     "ename": "NameError",
     "evalue": "name 'df_internal' is not defined",
     "output_type": "error",
     "traceback": [
      "\u001B[0;31m---------------------------------------------------------------------------\u001B[0m",
      "\u001B[0;31mNameError\u001B[0m                                 Traceback (most recent call last)",
      "Cell \u001B[0;32mIn[1], line 3\u001B[0m\n\u001B[1;32m      1\u001B[0m \u001B[38;5;66;03m#take every row from 50 to 255 and \u001B[39;00m\n\u001B[1;32m      2\u001B[0m \u001B[38;5;66;03m#X = df_internal.iloc[49:255,:-3]\u001B[39;00m\n\u001B[0;32m----> 3\u001B[0m X \u001B[38;5;241m=\u001B[39m \u001B[43mdf_internal\u001B[49m\u001B[38;5;241m.\u001B[39miloc[\u001B[38;5;241m49\u001B[39m:\u001B[38;5;241m255\u001B[39m, \u001B[38;5;241m~\u001B[39mdf_internal\u001B[38;5;241m.\u001B[39mcolumns\u001B[38;5;241m.\u001B[39mstr\u001B[38;5;241m.\u001B[39mcontains(\u001B[38;5;124m'\u001B[39m\u001B[38;5;124msales_actuals_monthly__vehiclegroup01__orderintake\u001B[39m\u001B[38;5;124m'\u001B[39m)]\n\u001B[1;32m      4\u001B[0m y \u001B[38;5;241m=\u001B[39m df_internal\u001B[38;5;241m.\u001B[39miloc[\u001B[38;5;241m49\u001B[39m:\u001B[38;5;241m255\u001B[39m, \u001B[38;5;241m3\u001B[39m]\n\u001B[1;32m      6\u001B[0m X_with_target \u001B[38;5;241m=\u001B[39m df_internal\u001B[38;5;241m.\u001B[39miloc[\u001B[38;5;241m49\u001B[39m:\u001B[38;5;241m255\u001B[39m,:]\n",
      "\u001B[0;31mNameError\u001B[0m: name 'df_internal' is not defined"
     ]
    }
   ],
   "source": [
    "#take every row from 50 to 255 and \n",
    "#X = df_internal.iloc[49:255,:-3]\n",
    "X = df_internal.iloc[49:255, ~df_internal.columns.str.contains('sales_actuals_monthly__vehiclegroup01__orderintake')]\n",
    "y = df_internal.iloc[49:255, 3]\n",
    "\n",
    "X_with_target = df_internal.iloc[49:255,:]\n"
   ]
  },
  {
   "cell_type": "code",
   "execution_count": null,
   "metadata": {},
   "outputs": [],
   "source": []
  },
  {
   "cell_type": "markdown",
   "metadata": {},
   "source": [
    "## testing wheel"
   ]
  },
  {
   "cell_type": "code",
   "execution_count": 2,
   "metadata": {},
   "outputs": [
    {
     "ename": "NameError",
     "evalue": "name 'X' is not defined",
     "output_type": "error",
     "traceback": [
      "\u001B[0;31m---------------------------------------------------------------------------\u001B[0m",
      "\u001B[0;31mNameError\u001B[0m                                 Traceback (most recent call last)",
      "Cell \u001B[0;32mIn[2], line 12\u001B[0m\n\u001B[1;32m      8\u001B[0m \u001B[38;5;28;01mif\u001B[39;00m mean_per_month:\n\u001B[1;32m      9\u001B[0m     \u001B[38;5;66;03m# add mean per month\u001B[39;00m\n\u001B[1;32m     10\u001B[0m     \u001B[38;5;66;03m# Fill in missing values using the corresponding month values\u001B[39;00m\n\u001B[1;32m     11\u001B[0m     month_means \u001B[38;5;241m=\u001B[39m {}\n\u001B[0;32m---> 12\u001B[0m     \u001B[38;5;28;01mfor\u001B[39;00m i \u001B[38;5;129;01min\u001B[39;00m \u001B[38;5;28mrange\u001B[39m(\u001B[38;5;28mlen\u001B[39m(\u001B[43mX\u001B[49m)):\n\u001B[1;32m     13\u001B[0m         month \u001B[38;5;241m=\u001B[39m X\u001B[38;5;241m.\u001B[39miloc[i][\u001B[38;5;124m'\u001B[39m\u001B[38;5;124mmonth_normalized\u001B[39m\u001B[38;5;124m'\u001B[39m]\n\u001B[1;32m     14\u001B[0m         month_values \u001B[38;5;241m=\u001B[39m X\u001B[38;5;241m.\u001B[39mloc[X[\u001B[38;5;124m'\u001B[39m\u001B[38;5;124mmonth_normalized\u001B[39m\u001B[38;5;124m'\u001B[39m] \u001B[38;5;241m==\u001B[39m month, feature[\u001B[38;5;241m0\u001B[39m]]\n",
      "\u001B[0;31mNameError\u001B[0m: name 'X' is not defined"
     ]
    }
   ],
   "source": [
    "# Include all features to be filled with values\n",
    "checkup_features = [['quota__vehiclegroup01__aq'],['quota__vehiclegroup01__aq']]\n",
    "\n",
    "mean_per_month = True\n",
    "interpolation_linear = True\n",
    "fill_zero = True\n",
    "\n",
    "# \n",
    "for feature in checkup_features:\n",
    "    if mean_per_month:\n",
    "        # add mean per month\n",
    "        # Fill in missing values using the corresponding month values\n",
    "        month_means = {}\n",
    "        for i in range(len(X)):\n",
    "            month = X.iloc[i]['month_normalized']\n",
    "            month_values = X.loc[X['month_normalized'] == month, feature[0]]\n",
    "            if not month_values.isnull().values.all():\n",
    "                month_means[month] = month_values.mean()\n",
    "\n",
    "        # Fill in missing values using the corresponding month values\n",
    "        X[feature[0]+'_meanbymonth']=X[feature[0]].loc[:].fillna(X['month_normalized'].map(month_means))\n",
    "\n",
    "    if interpolation_linear:\n",
    "        X[feature[0]+'_interpolated_linear']=X[feature[0]].interpolate(method='linear', limit_direction = 'both')\n",
    "\n",
    "    if fill_zero:\n",
    "       X[feature[0]+'_fill_zero']=X[feature[0]].fillna(0)"
   ]
  },
  {
   "cell_type": "code",
   "execution_count": null,
   "outputs": [],
   "source": [],
   "metadata": {
    "collapsed": false
   }
  },
  {
   "cell_type": "markdown",
   "metadata": {},
   "source": [
    "## SHAP"
   ]
  },
  {
   "cell_type": "code",
   "execution_count": null,
   "metadata": {},
   "outputs": [],
   "source": [
    "model = xgboost.XGBRegressor().fit(X, y)\n",
    "\n",
    "print('Accuracy Score of the Model is: ',model.score(X, y))\n",
    "\n",
    "explainer = shap.Explainer(model)\n",
    "shap_values = explainer(X)"
   ]
  }
 ],
 "metadata": {
  "kernelspec": {
   "display_name": "Python 3",
   "language": "python",
   "name": "python3"
  },
  "language_info": {
   "codemirror_mode": {
    "name": "ipython",
    "version": 3
   },
   "file_extension": ".py",
   "mimetype": "text/x-python",
   "name": "python",
   "nbconvert_exporter": "python",
   "pygments_lexer": "ipython3",
   "version": "3.8.0"
  }
 },
 "nbformat": 4,
 "nbformat_minor": 2
}
