{
 "cells": [
  {
   "cell_type": "markdown",
   "metadata": {},
   "source": [
    "# Create external feature data for each country"
   ]
  },
  {
   "cell_type": "code",
   "execution_count": 1,
   "metadata": {},
   "outputs": [
    {
     "name": "stdout",
     "output_type": "stream",
     "text": [
      "['Country A' 'Country B' 'Country C' 'Country D']\n",
      "CountryA (360, 1420)\n",
      "CountryB (360, 1420)\n",
      "CountryC (360, 1420)\n",
      "CountryD (360, 1420)\n"
     ]
    }
   ],
   "source": [
    "import pandas as pd\n",
    "\n",
    "df = pd.read_csv(\"kitCapstoneJan24_data.csv\", delimiter=\";\")\n",
    "external_data = df.drop(df.filter(regex='vehiclegroup').columns, axis=1)\n",
    "\n",
    "country_list = external_data[\"countryname\"].unique()\n",
    "print(country_list)\n",
    "\n",
    "for country in country_list:\n",
    "    external = external_data[external_data[\"countryname\"] == country].drop(\"countryname\", axis=1)\n",
    "    country_name = \"\".join(country.split(\" \"))\n",
    "    print(country_name, external.shape)\n",
    "    external.to_csv(f'{country_name}__external_data.csv', index=False, sep=\";\")"
   ]
  }
 ],
 "metadata": {
  "kernelspec": {
   "display_name": "sklearn-env",
   "language": "python",
   "name": "python3"
  },
  "language_info": {
   "codemirror_mode": {
    "name": "ipython",
    "version": 3
   },
   "file_extension": ".py",
   "mimetype": "text/x-python",
   "name": "python",
   "nbconvert_exporter": "python",
   "pygments_lexer": "ipython3",
   "version": "3.11.7"
  }
 },
 "nbformat": 4,
 "nbformat_minor": 2
}
