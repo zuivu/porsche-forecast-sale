{
 "cells": [
  {
   "cell_type": "code",
   "execution_count": null,
   "metadata": {},
   "outputs": [],
   "source": [
    "import pandas as pd"
   ]
  },
  {
   "cell_type": "code",
   "execution_count": null,
   "metadata": {},
   "outputs": [],
   "source": [
    "df = pd.read_csv(\"Data/kitCapstoneJan24_data.csv\", sep=\";\")"
   ]
  },
  {
   "cell_type": "markdown",
   "metadata": {},
   "source": [
    "## selecting the country that we want"
   ]
  },
  {
   "cell_type": "code",
   "execution_count": null,
   "metadata": {},
   "outputs": [],
   "source": [
    "selected_country = 'Country A'\n",
    "#Get rows with for country A\n",
    "\n",
    "df_country_a = df[df['countryname'] == selected_country]\n",
    "df_country_a"
   ]
  },
  {
   "cell_type": "markdown",
   "metadata": {},
   "source": [
    "## building a additional feature for months (1-12)\n",
    "\n",
    "important for meanbymonth"
   ]
  },
  {
   "cell_type": "code",
   "execution_count": null,
   "metadata": {},
   "outputs": [],
   "source": [
    "df_country_a['month_normalized'] = df_country_a['month'] % 12\n",
    "df_country_a\n",
    "\n",
    "df_country_a = df_country_a[['month_normalized','month', 'countryname'] + [col for col in df_country_a.columns if col not in ['month_normalized','month', 'countryname']]]\n",
    "\n",
    "df_country_a"
   ]
  },
  {
   "cell_type": "markdown",
   "metadata": {},
   "source": [
    "## select an vehiclegroup"
   ]
  },
  {
   "cell_type": "code",
   "execution_count": null,
   "metadata": {},
   "outputs": [],
   "source": [
    "selcted_vehiclegroup = 'vehiclegroup01'\n",
    "\n",
    "# delete all columns that are for a diffe\n",
    "\n",
    "df1 = df_country_a\n",
    "\n",
    "# create new dataframe with month and all columns containing vehiclegroup01\n",
    "df2 = df1.filter(regex=selcted_vehiclegroup)\n",
    "df2.head()\n",
    "\n",
    "# drop columns in df1 which contain vehiclegroup\n",
    "df3 = df1.drop(df1.filter(regex='vehiclegroup').columns, axis=1)\n",
    "df3.head()\n",
    "\n",
    "# merge df2 and df3 by index\n",
    "df4 = df2.merge(df3, left_index=True, right_index=True)\n",
    "df4.head()\n",
    "\n",
    "# is there a column month in df4?\n",
    "df4.columns.str.contains('month').any()\n",
    "# column month should be the first column, second column is countryname\n",
    "df4 = df4[['month_normalized','month', 'countryname'] + [col for col in df4.columns if col not in ['month_normalized','month', 'countryname']]]"
   ]
  },
  {
   "cell_type": "code",
   "execution_count": null,
   "metadata": {},
   "outputs": [],
   "source": [
    "# drop rows after row 258\n",
    "#test = df4.drop(df4.index[258:])\n",
    "test = df4"
   ]
  },
  {
   "cell_type": "markdown",
   "metadata": {},
   "source": [
    "## build different dataframes for internal and external data"
   ]
  },
  {
   "cell_type": "code",
   "execution_count": null,
   "metadata": {},
   "outputs": [],
   "source": [
    "df_overall = test\n",
    "df_overall"
   ]
  },
  {
   "cell_type": "code",
   "execution_count": null,
   "metadata": {},
   "outputs": [],
   "source": [
    "# dataframe with first 18 columns (internal data)\n",
    "df_internal = test.iloc[:, :21]\n",
    "df_internal.head()"
   ]
  },
  {
   "cell_type": "markdown",
   "metadata": {},
   "source": [
    "# dataframe with external features\n",
    "df_external = test.iloc[:, 21:]\n",
    "df_external = test['']df_external.\n",
    "df_external.head()"
   ]
  },
  {
   "cell_type": "code",
   "execution_count": null,
   "metadata": {},
   "outputs": [],
   "source": [
    "# dataframe with external features\n",
    "df_external = test.iloc[:, 21:]\n",
    "df_external.loc[:, 'month_normalized'] = test['month_normalized']\n",
    "df_external.head()"
   ]
  },
  {
   "cell_type": "code",
   "execution_count": null,
   "metadata": {},
   "outputs": [],
   "source": [
    "# dataframe with external features\n",
    "df_external_info = test.iloc[:259,]\n",
    "df_external_info.head()\n",
    "\n"
   ]
  },
  {
   "cell_type": "markdown",
   "metadata": {},
   "source": [
    "# different stuff. nan lists\n",
    "\n"
   ]
  },
  {
   "cell_type": "code",
   "execution_count": null,
   "metadata": {},
   "outputs": [],
   "source": [
    "# Assuming df_external_info is a DataFrame\n",
    "nan_columns = df_external_info.isna().any()\n",
    "nan_counts = df_external_info.isna().sum()\n",
    "\n",
    "\n",
    "# Create a list of rows\n",
    "rows = []\n",
    "for col, count in nan_counts.items():\n",
    "    if count > 50:\n",
    "        row = {\"name\": col, \"NaN Count\": count}\n",
    "        rows.append(row)\n",
    "\n",
    "# Create a DataFrame\n",
    "nan_info_df = pd.DataFrame(rows, columns=[\"name\", \"NaN Count\"])\n",
    "\n",
    "nan_info_df\n",
    "\n",
    "nan_info_df.to_csv('nan_list.csv')\n",
    "\n",
    "# Create a list of rows\n",
    "rows = []\n",
    "for col, count in nan_counts.items():\n",
    "    if count <= 50:\n",
    "        row = {\"name\": col, \"NaN Count\": count}\n",
    "        rows.append(row)\n",
    "\n",
    "# Create a DataFrame\n",
    "not_nan_info_df = pd.DataFrame(rows, columns=[\"name\", \"NaN Count\"])\n",
    "\n",
    "not_nan_info_df\n",
    "\n",
    "not_nan_info_df.to_csv('not_nan_list.csv')\n"
   ]
  },
  {
   "cell_type": "markdown",
   "metadata": {},
   "source": [
    "# building target values\n"
   ]
  },
  {
   "cell_type": "code",
   "execution_count": null,
   "metadata": {},
   "outputs": [],
   "source": [
    "country_a_y = y"
   ]
  },
  {
   "cell_type": "code",
   "execution_count": null,
   "metadata": {},
   "outputs": [],
   "source": [
    "country_a_y"
   ]
  },
  {
   "cell_type": "code",
   "execution_count": null,
   "metadata": {},
   "outputs": [],
   "source": [
    "#take every row from 50 to 255 and \n",
    "#X = df_internal.iloc[49:255,:-3]\n",
    "X = df_internal.iloc[49:255, ~df_internal.columns.str.contains('sales_actuals_monthly__vehiclegroup01__orderintake')]\n",
    "y = df_internal.iloc[49:255, 3]\n",
    "\n",
    "X_with_target = df_internal.iloc[49:255,:]\n"
   ]
  },
  {
   "cell_type": "code",
   "execution_count": null,
   "metadata": {},
   "outputs": [],
   "source": [
    "X"
   ]
  },
  {
   "cell_type": "markdown",
   "metadata": {},
   "source": [
    "## testing wheel"
   ]
  },
  {
   "cell_type": "code",
   "execution_count": null,
   "metadata": {},
   "outputs": [],
   "source": [
    "df_overall"
   ]
  },
  {
   "cell_type": "code",
   "execution_count": null,
   "metadata": {},
   "outputs": [],
   "source": [
    "\n",
    "\n",
    "use_all_features = True\n",
    "# if false, assign checkup_features here\n",
    "checkup_features = ['quota__vehiclegroup01__aq'],['sales_flow_monthly__vehiclegroup01__cp8']\n",
    "input_df = df_overall\n",
    "\n",
    "predict_future_values = True\n",
    "if predict_future_values:\n",
    "    range_predict = len(input_df)\n",
    "else:\n",
    "    range_predict = 257\n",
    "\n",
    "#methods\n",
    "mean_per_month = True\n",
    "interpolation_linear = True\n",
    "fill_zero = True\n",
    "\n",
    "if use_all_features:\n",
    "    checkup_features = input_df.columns\n",
    "for feature in checkup_features:\n",
    "    print(feature)\n",
    "    if input_df[feature].isna().any():\n",
    "        if mean_per_month:\n",
    "            # add mean per month\n",
    "            # Fill in missing values using the corresponding month values\n",
    "            month_means = {}\n",
    "            for i in range(len(input_df)):\n",
    "                month = input_df.iloc[i]['month_normalized']\n",
    "                month_values = input_df.loc[input_df['month_normalized'] == month, feature]\n",
    "                if not month_values.isnull().values.all():\n",
    "                    month_means[month] = month_values.mean()\n",
    "\n",
    "            # Fill in missing values using the corresponding month values\n",
    "            input_df[feature+'_meanbymonth']=input_df[feature].loc[:].fillna(input_df['month_normalized'].map(month_means))\n",
    "\n",
    "        if interpolation_linear:\n",
    "            input_df[feature+'_interpolated_linear']=input_df[feature].interpolate(method='linear', limit_direction = 'both')\n",
    "\n",
    "        if fill_zero:\n",
    "            input_df[feature+'_fill_zero']=input_df[feature].fillna(0)\n",
    "        \n",
    "        input_df = input_df.drop(columns=feature, inplace=True)\n",
    "output_df = input_df"
   ]
  },
  {
   "cell_type": "code",
   "execution_count": null,
   "metadata": {},
   "outputs": [],
   "source": [
    "output_df.head()"
   ]
  },
  {
   "cell_type": "code",
   "execution_count": null,
   "metadata": {},
   "outputs": [],
   "source": [
    "output_df.to_csv('model_data_with_own_predictions.csv')"
   ]
  },
  {
   "cell_type": "markdown",
   "metadata": {},
   "source": [
    "## SHAP"
   ]
  },
  {
   "cell_type": "code",
   "execution_count": null,
   "metadata": {},
   "outputs": [],
   "source": [
    "import xgboost\n",
    "import shap\n",
    "from sklearn import metrics\n",
    "import matplotlib\n",
    "shap.initjs()"
   ]
  },
  {
   "cell_type": "code",
   "execution_count": null,
   "metadata": {},
   "outputs": [],
   "source": [
    "# Drop countryname column and replace with numerical values\n",
    "countryMapping = {'Country A': 1, 'Country B': 2, 'Country C': 3, 'Country D': 4}\n",
    "X['countryNo'] = X['countryname'].map(countryMapping)\n",
    "X = X.drop('countryname', axis=1)\n",
    "X.dtypes"
   ]
  },
  {
   "cell_type": "code",
   "execution_count": null,
   "metadata": {},
   "outputs": [],
   "source": [
    "model = xgboost.XGBRegressor().fit(X, y)\n",
    "\n",
    "print('Accuracy Score of the Model is: ',model.score(X, y))\n",
    "\n",
    "explainer = shap.Explainer(model)\n",
    "shap_values = explainer(X)"
   ]
  },
  {
   "cell_type": "code",
   "execution_count": null,
   "metadata": {},
   "outputs": [],
   "source": [
    "shap.summary_plot(shap_values, X)\n",
    "shap.summary_plot(shap_values, X, plot_type='bar', max_display=10)"
   ]
  },
  {
   "cell_type": "code",
   "execution_count": null,
   "metadata": {},
   "outputs": [],
   "source": []
  }
 ],
 "metadata": {
  "kernelspec": {
   "display_name": "Python 3",
   "language": "python",
   "name": "python3"
  },
  "language_info": {
   "codemirror_mode": {
    "name": "ipython",
    "version": 3
   },
   "file_extension": ".py",
   "mimetype": "text/x-python",
   "name": "python",
   "nbconvert_exporter": "python",
   "pygments_lexer": "ipython3",
   "version": "3.11.5"
  }
 },
 "nbformat": 4,
 "nbformat_minor": 2
}
